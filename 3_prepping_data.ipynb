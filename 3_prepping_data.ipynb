{
 "cells": [
  {
   "cell_type": "markdown",
   "metadata": {},
   "source": [
    "# Import libraries and load text"
   ]
  },
  {
   "cell_type": "code",
   "execution_count": 2,
   "metadata": {},
   "outputs": [
    {
     "name": "stdout",
     "output_type": "stream",
     "text": [
      "CFPB\n"
     ]
    }
   ],
   "source": [
    "import os\n",
    "print(os.environ['CONDA_DEFAULT_ENV'])"
   ]
  },
  {
   "cell_type": "code",
   "execution_count": 6,
   "metadata": {},
   "outputs": [],
   "source": [
    "import pandas as pd\n",
    "import numpy as np\n",
    "import nltk\n",
    "from nltk.corpus import stopwords\n",
    "from nltk import word_tokenize, FreqDist\n",
    "from nltk.stem.wordnet import WordNetLemmatizer\n",
    "import string\n",
    "import plotly\n",
    "import plotly.graph_objects as go\n",
    "import plotly.express as px\n",
    "from sklearn.feature_extraction.text import TfidfVectorizer, CountVectorizer"
   ]
  },
  {
   "cell_type": "code",
   "execution_count": 5,
   "metadata": {},
   "outputs": [
    {
     "name": "stdout",
     "output_type": "stream",
     "text": [
      "Defaulting to user installation because normal site-packages is not writeable\n",
      "Collecting plotly\n",
      "  Using cached plotly-5.9.0-py2.py3-none-any.whl (15.2 MB)\n",
      "Collecting tenacity>=6.2.0\n",
      "  Using cached tenacity-8.0.1-py3-none-any.whl (24 kB)\n",
      "Installing collected packages: tenacity, plotly\n",
      "Successfully installed plotly-5.9.0 tenacity-8.0.1\n"
     ]
    }
   ],
   "source": [
    "!python3 -m pip install plotly\n"
   ]
  },
  {
   "cell_type": "code",
   "execution_count": 8,
   "metadata": {},
   "outputs": [
    {
     "name": "stdout",
     "output_type": "stream",
     "text": [
      "Credit reporting, credit repair services, or other personal consumer reports    312752\n",
      "Debt collection                                                                 110530\n",
      "Credit card or prepaid card                                                      58116\n",
      "Mortgage                                                                         46866\n",
      "Checking or savings account                                                      36304\n",
      "Money transfer, virtual currency, or money service                               18876\n",
      "Vehicle loan or lease                                                            14295\n",
      "Student loan                                                                     14220\n",
      "Payday loan, title loan, or personal loan                                         9574\n",
      "Name: product, dtype: int64\n"
     ]
    }
   ],
   "source": [
    "# Prepping dataframe as done in 1_EDA.ipynb\n",
    "\n",
    "df = pd.read_csv('complaints_0721_2018-2022.csv')\n",
    "df = df[['Product', 'Consumer complaint narrative']]\n",
    "\n",
    "df = df.rename(columns={\"Product\": \"product\", \"Consumer complaint narrative\": \"narrative\"})\n",
    "# df = df[ (df['product'] != \"Debt collection\" ) & \n",
    "#         (df['product'] != \"Money transfer, virtual currency, or money service\") & \n",
    "#        (df['product'] != \"Checking or savings account\")]\n",
    "\n",
    "\n",
    "print(df['product'].value_counts())\n",
    "\n",
    "df['product'].replace({'Credit reporting, credit repair services, or other personal consumer reports': 'Non Money Transfer',\n",
    "                       'Credit card or prepaid card': 'Non Money Transfer',\n",
    "                       'Mortgage': 'Non Money Transfer',\n",
    "                       'Vehicle loan or lease': 'Non Money Transfer',\n",
    "                       'Payday loan, title loan, or personal loan': 'Non Money Transfer',\n",
    "                       'Student loan': 'Non Money Transfer',\n",
    "                       'Debt collection' : 'Non Money Transfer', \n",
    "                       'Money transfer, virtual currency, or money service': 'Money Transfer', \n",
    "                       'Checking or savings account': 'Non Money Transfer'}, inplace=True)"
   ]
  },
  {
   "cell_type": "code",
   "execution_count": 9,
   "metadata": {},
   "outputs": [
    {
     "data": {
      "text/plain": [
       "Non Money Transfer    602657\n",
       "Money Transfer         18876\n",
       "Name: product, dtype: int64"
      ]
     },
     "execution_count": 9,
     "metadata": {},
     "output_type": "execute_result"
    }
   ],
   "source": [
    "df['product'].value_counts()"
   ]
  },
  {
   "cell_type": "code",
   "execution_count": 10,
   "metadata": {},
   "outputs": [],
   "source": [
    "train_pos = df[df['product'] == 'Money Transfer'].sample(frac=0.15)\n",
    "df_rest_pos = df[df['product'] == 'Money Transfer'].drop(train_pos.index)\n",
    "\n",
    "train_neg = df[df['product'] == 'Non Money Transfer'].sample(frac=0.27)\n",
    "df_rest_neg = df[df['product'] == 'Non Money Transfer'].drop(train_neg.index)\n"
   ]
  },
  {
   "cell_type": "code",
   "execution_count": 11,
   "metadata": {},
   "outputs": [],
   "source": [
    "df_rest = pd.concat([df_rest_pos, df_rest_neg])\n",
    "df_train = pd.concat([train_pos, train_neg])"
   ]
  },
  {
   "cell_type": "code",
   "execution_count": 12,
   "metadata": {},
   "outputs": [
    {
     "data": {
      "text/plain": [
       "Non Money Transfer    162717\n",
       "Money Transfer          2831\n",
       "Name: product, dtype: int64"
      ]
     },
     "execution_count": 12,
     "metadata": {},
     "output_type": "execute_result"
    }
   ],
   "source": [
    "df_train['product'].value_counts()"
   ]
  },
  {
   "cell_type": "code",
   "execution_count": 13,
   "metadata": {},
   "outputs": [
    {
     "data": {
      "text/plain": [
       "Non Money Transfer    439940\n",
       "Money Transfer         16045\n",
       "Name: product, dtype: int64"
      ]
     },
     "execution_count": 13,
     "metadata": {},
     "output_type": "execute_result"
    }
   ],
   "source": [
    "df_rest['product'].value_counts()"
   ]
  },
  {
   "cell_type": "code",
   "execution_count": 14,
   "metadata": {},
   "outputs": [
    {
     "data": {
      "text/plain": [
       "(165548, 2)"
      ]
     },
     "execution_count": 14,
     "metadata": {},
     "output_type": "execute_result"
    }
   ],
   "source": [
    "df_train.shape\n"
   ]
  },
  {
   "cell_type": "code",
   "execution_count": 15,
   "metadata": {},
   "outputs": [
    {
     "data": {
      "text/html": [
       "<div>\n",
       "<style scoped>\n",
       "    .dataframe tbody tr th:only-of-type {\n",
       "        vertical-align: middle;\n",
       "    }\n",
       "\n",
       "    .dataframe tbody tr th {\n",
       "        vertical-align: top;\n",
       "    }\n",
       "\n",
       "    .dataframe thead th {\n",
       "        text-align: right;\n",
       "    }\n",
       "</style>\n",
       "<table border=\"1\" class=\"dataframe\">\n",
       "  <thead>\n",
       "    <tr style=\"text-align: right;\">\n",
       "      <th></th>\n",
       "      <th>product</th>\n",
       "      <th>narrative</th>\n",
       "    </tr>\n",
       "  </thead>\n",
       "  <tbody>\n",
       "    <tr>\n",
       "      <th>428461</th>\n",
       "      <td>Non Money Transfer</td>\n",
       "      <td>I have contacted total visa to let them know I...</td>\n",
       "    </tr>\n",
       "    <tr>\n",
       "      <th>568615</th>\n",
       "      <td>Non Money Transfer</td>\n",
       "      <td>I filled out a survey for XXXX  XXXX, where I ...</td>\n",
       "    </tr>\n",
       "    <tr>\n",
       "      <th>190362</th>\n",
       "      <td>Non Money Transfer</td>\n",
       "      <td>Equifax sent a letter dated XX/XX/2021, it sta...</td>\n",
       "    </tr>\n",
       "    <tr>\n",
       "      <th>499297</th>\n",
       "      <td>Non Money Transfer</td>\n",
       "      <td>This is XXXX XXXX XXXX, who is submitting this...</td>\n",
       "    </tr>\n",
       "    <tr>\n",
       "      <th>77257</th>\n",
       "      <td>Non Money Transfer</td>\n",
       "      <td>I found out about the debt when trying to refi...</td>\n",
       "    </tr>\n",
       "    <tr>\n",
       "      <th>382991</th>\n",
       "      <td>Non Money Transfer</td>\n",
       "      <td>1. XXXX XXXX XXXX Not mine Date reported XX/XX...</td>\n",
       "    </tr>\n",
       "    <tr>\n",
       "      <th>235624</th>\n",
       "      <td>Non Money Transfer</td>\n",
       "      <td>XXXX/XXXX XXXX ACCT NO XXXX IS BEING WRONGFULL...</td>\n",
       "    </tr>\n",
       "    <tr>\n",
       "      <th>523015</th>\n",
       "      <td>Non Money Transfer</td>\n",
       "      <td>XXXX XXXX XXXX XXXX XXXX XXXX XXXX XXXX OH XXX...</td>\n",
       "    </tr>\n",
       "    <tr>\n",
       "      <th>325324</th>\n",
       "      <td>Non Money Transfer</td>\n",
       "      <td>I have checking account with overdraft protect...</td>\n",
       "    </tr>\n",
       "    <tr>\n",
       "      <th>387224</th>\n",
       "      <td>Non Money Transfer</td>\n",
       "      <td>Ftc violations XXXX : These lawsuits allege XX...</td>\n",
       "    </tr>\n",
       "  </tbody>\n",
       "</table>\n",
       "</div>"
      ],
      "text/plain": [
       "                   product                                          narrative\n",
       "428461  Non Money Transfer  I have contacted total visa to let them know I...\n",
       "568615  Non Money Transfer  I filled out a survey for XXXX  XXXX, where I ...\n",
       "190362  Non Money Transfer  Equifax sent a letter dated XX/XX/2021, it sta...\n",
       "499297  Non Money Transfer  This is XXXX XXXX XXXX, who is submitting this...\n",
       "77257   Non Money Transfer  I found out about the debt when trying to refi...\n",
       "382991  Non Money Transfer  1. XXXX XXXX XXXX Not mine Date reported XX/XX...\n",
       "235624  Non Money Transfer  XXXX/XXXX XXXX ACCT NO XXXX IS BEING WRONGFULL...\n",
       "523015  Non Money Transfer  XXXX XXXX XXXX XXXX XXXX XXXX XXXX XXXX OH XXX...\n",
       "325324  Non Money Transfer  I have checking account with overdraft protect...\n",
       "387224  Non Money Transfer  Ftc violations XXXX : These lawsuits allege XX..."
      ]
     },
     "execution_count": 15,
     "metadata": {},
     "output_type": "execute_result"
    }
   ],
   "source": [
    "df_train.tail(10)"
   ]
  },
  {
   "cell_type": "code",
   "execution_count": 16,
   "metadata": {},
   "outputs": [],
   "source": [
    "df_train.index = np.arange(0, len(df_train))"
   ]
  },
  {
   "cell_type": "code",
   "execution_count": 17,
   "metadata": {},
   "outputs": [
    {
     "data": {
      "text/html": [
       "<div>\n",
       "<style scoped>\n",
       "    .dataframe tbody tr th:only-of-type {\n",
       "        vertical-align: middle;\n",
       "    }\n",
       "\n",
       "    .dataframe tbody tr th {\n",
       "        vertical-align: top;\n",
       "    }\n",
       "\n",
       "    .dataframe thead th {\n",
       "        text-align: right;\n",
       "    }\n",
       "</style>\n",
       "<table border=\"1\" class=\"dataframe\">\n",
       "  <thead>\n",
       "    <tr style=\"text-align: right;\">\n",
       "      <th></th>\n",
       "      <th>product</th>\n",
       "      <th>narrative</th>\n",
       "    </tr>\n",
       "  </thead>\n",
       "  <tbody>\n",
       "    <tr>\n",
       "      <th>165538</th>\n",
       "      <td>Non Money Transfer</td>\n",
       "      <td>I have contacted total visa to let them know I...</td>\n",
       "    </tr>\n",
       "    <tr>\n",
       "      <th>165539</th>\n",
       "      <td>Non Money Transfer</td>\n",
       "      <td>I filled out a survey for XXXX  XXXX, where I ...</td>\n",
       "    </tr>\n",
       "    <tr>\n",
       "      <th>165540</th>\n",
       "      <td>Non Money Transfer</td>\n",
       "      <td>Equifax sent a letter dated XX/XX/2021, it sta...</td>\n",
       "    </tr>\n",
       "    <tr>\n",
       "      <th>165541</th>\n",
       "      <td>Non Money Transfer</td>\n",
       "      <td>This is XXXX XXXX XXXX, who is submitting this...</td>\n",
       "    </tr>\n",
       "    <tr>\n",
       "      <th>165542</th>\n",
       "      <td>Non Money Transfer</td>\n",
       "      <td>I found out about the debt when trying to refi...</td>\n",
       "    </tr>\n",
       "    <tr>\n",
       "      <th>165543</th>\n",
       "      <td>Non Money Transfer</td>\n",
       "      <td>1. XXXX XXXX XXXX Not mine Date reported XX/XX...</td>\n",
       "    </tr>\n",
       "    <tr>\n",
       "      <th>165544</th>\n",
       "      <td>Non Money Transfer</td>\n",
       "      <td>XXXX/XXXX XXXX ACCT NO XXXX IS BEING WRONGFULL...</td>\n",
       "    </tr>\n",
       "    <tr>\n",
       "      <th>165545</th>\n",
       "      <td>Non Money Transfer</td>\n",
       "      <td>XXXX XXXX XXXX XXXX XXXX XXXX XXXX XXXX OH XXX...</td>\n",
       "    </tr>\n",
       "    <tr>\n",
       "      <th>165546</th>\n",
       "      <td>Non Money Transfer</td>\n",
       "      <td>I have checking account with overdraft protect...</td>\n",
       "    </tr>\n",
       "    <tr>\n",
       "      <th>165547</th>\n",
       "      <td>Non Money Transfer</td>\n",
       "      <td>Ftc violations XXXX : These lawsuits allege XX...</td>\n",
       "    </tr>\n",
       "  </tbody>\n",
       "</table>\n",
       "</div>"
      ],
      "text/plain": [
       "                   product                                          narrative\n",
       "165538  Non Money Transfer  I have contacted total visa to let them know I...\n",
       "165539  Non Money Transfer  I filled out a survey for XXXX  XXXX, where I ...\n",
       "165540  Non Money Transfer  Equifax sent a letter dated XX/XX/2021, it sta...\n",
       "165541  Non Money Transfer  This is XXXX XXXX XXXX, who is submitting this...\n",
       "165542  Non Money Transfer  I found out about the debt when trying to refi...\n",
       "165543  Non Money Transfer  1. XXXX XXXX XXXX Not mine Date reported XX/XX...\n",
       "165544  Non Money Transfer  XXXX/XXXX XXXX ACCT NO XXXX IS BEING WRONGFULL...\n",
       "165545  Non Money Transfer  XXXX XXXX XXXX XXXX XXXX XXXX XXXX XXXX OH XXX...\n",
       "165546  Non Money Transfer  I have checking account with overdraft protect...\n",
       "165547  Non Money Transfer  Ftc violations XXXX : These lawsuits allege XX..."
      ]
     },
     "execution_count": 17,
     "metadata": {},
     "output_type": "execute_result"
    }
   ],
   "source": [
    "df_train.tail(10)"
   ]
  },
  {
   "cell_type": "code",
   "execution_count": 18,
   "metadata": {},
   "outputs": [
    {
     "data": {
      "text/plain": [
       "Non Money Transfer    162717\n",
       "Money Transfer          2831\n",
       "Name: product, dtype: int64"
      ]
     },
     "execution_count": 18,
     "metadata": {},
     "output_type": "execute_result"
    }
   ],
   "source": [
    "df_train['product'].value_counts()"
   ]
  },
  {
   "cell_type": "code",
   "execution_count": 19,
   "metadata": {},
   "outputs": [
    {
     "data": {
      "text/plain": [
       "\"On XX/XX/2019, I used WorldRemit to send money internationally to XXXX WorldRemit 's website was seemingly very clear about all of the fees involved. The transaction went smoothly. However, when I received my credit card bill from XXXX ( statement for billing period XX/XX/19-XX/XX/19 ), I found I was charged a large fee for making a cash advance. \\n\\nWhen I made the transaction on WorldRemit, there was nothing to indicate that the transaction would be treated as a cash advance. I called XXXX to complain, and they told me that they had no control over the fee -- that the merchant ( WorldRemit ) submitted the transaction as a cash advance. I called WorldRemit to complain, and they told me that they had no control over the way in which the bank processed the transaction -- that they did not submit it as a cash advance, but that XXXX chose to process it as a cash advance. \\n\\nSince neither company accepts responsibility for the additional fee, I am considering both to be committing fraud.\""
      ]
     },
     "execution_count": 19,
     "metadata": {},
     "output_type": "execute_result"
    }
   ],
   "source": [
    "df_train.loc[0]['narrative']"
   ]
  },
  {
   "cell_type": "code",
   "execution_count": 56,
   "metadata": {},
   "outputs": [
    {
     "data": {
      "text/plain": [
       "165548"
      ]
     },
     "execution_count": 56,
     "metadata": {},
     "output_type": "execute_result"
    }
   ],
   "source": [
    "len(df_train)"
   ]
  },
  {
   "cell_type": "markdown",
   "metadata": {},
   "source": [
    "# Loop through narratives to remove stopwords, tokenize and lemmatize"
   ]
  },
  {
   "cell_type": "code",
   "execution_count": 24,
   "metadata": {},
   "outputs": [],
   "source": [
    "stopwords_list = stopwords.words('english') + list(string.punctuation)\n",
    "stopwords_list += [\"''\", '\"\"', '...', '``']\n",
    "stopwords_list += ['--', 'xxxx', 'xx/xx/2020', 'xx/xx/2021', 'xx/xx/2019', 'xx/xx/2018','xx/xx/18', 'xx/xx/19']"
   ]
  },
  {
   "cell_type": "code",
   "execution_count": 29,
   "metadata": {},
   "outputs": [
    {
     "name": "stderr",
     "output_type": "stream",
     "text": [
      "[nltk_data] Downloading package wordnet to /home/keqiaoli/nltk_data...\n"
     ]
    },
    {
     "data": {
      "text/plain": [
       "True"
      ]
     },
     "execution_count": 29,
     "metadata": {},
     "output_type": "execute_result"
    }
   ],
   "source": [
    "import nltk\n",
    "nltk.download('wordnet')"
   ]
  },
  {
   "cell_type": "code",
   "execution_count": 26,
   "metadata": {},
   "outputs": [],
   "source": [
    "# function to tokenize data and remove stopwords\n",
    "def process_narrative(narrative):\n",
    "    tokens = nltk.word_tokenize(narrative)\n",
    "    stopwords_removed = [token.lower() for token in tokens if token.lower() not in stopwords_list]\n",
    "    \n",
    "    # adding line to remove all tokens with numbers and punctuation\n",
    "    stopwords_punc_and_numbers_removed = [word for word in stopwords_removed if word.isalpha()]\n",
    "    \n",
    "    return stopwords_punc_and_numbers_removed\n",
    "\n",
    "\n",
    "# function to concat words (used in function below)\n",
    "def concat_words(list_of_words):\n",
    "    # remove any NaN's\n",
    "    # list_of_words = [i for i in list if i is not np.nan]\n",
    "\n",
    "    concat_words = ''\n",
    "    for word in list_of_words:\n",
    "        concat_words += word + ' '\n",
    "    return concat_words.strip()\n",
    "\n",
    "# function to lemmatize words and merge each complaint into a single space-separated string\n",
    "\n",
    "lemm = WordNetLemmatizer()\n",
    "\n",
    "def make_lemma_and_concat(list_of_words):\n",
    "    # remove any NaN's\n",
    "    list_of_words = [i for i in list_of_words if i is not np.nan]\n",
    "    \n",
    "    # lemmatize each word\n",
    "    lemmatized_list = []\n",
    "    for idx, word in enumerate(list_of_words):\n",
    "        lemmatized_list.append(lemm.lemmatize(word))\n",
    "    \n",
    "    # make the list into a single string with the words separated by ' '\n",
    "    concatenated_string = concat_words(lemmatized_list)\n",
    "    return concatenated_string"
   ]
  },
  {
   "cell_type": "markdown",
   "metadata": {},
   "source": [
    "# Prepare dataframe for modeling"
   ]
  },
  {
   "cell_type": "code",
   "execution_count": 27,
   "metadata": {},
   "outputs": [
    {
     "data": {
      "text/plain": [
       "(165548, 3)"
      ]
     },
     "execution_count": 27,
     "metadata": {},
     "output_type": "execute_result"
    }
   ],
   "source": [
    "df_train['processed narrative'] = df_train['narrative']\n",
    "df_train.shape"
   ]
  },
  {
   "cell_type": "code",
   "execution_count": 30,
   "metadata": {},
   "outputs": [
    {
     "name": "stdout",
     "output_type": "stream",
     "text": [
      "Finished line number 0\n",
      "Finished line number 3000\n",
      "Finished line number 6000\n",
      "Finished line number 9000\n",
      "Finished line number 12000\n",
      "Finished line number 15000\n",
      "Finished line number 18000\n",
      "Finished line number 21000\n",
      "Finished line number 24000\n",
      "Finished line number 27000\n",
      "Finished line number 30000\n",
      "Finished line number 33000\n",
      "Finished line number 36000\n",
      "Finished line number 39000\n",
      "Finished line number 42000\n",
      "Finished line number 45000\n",
      "Finished line number 48000\n",
      "Finished line number 51000\n",
      "Finished line number 54000\n",
      "Finished line number 57000\n",
      "Finished line number 60000\n",
      "Finished line number 63000\n",
      "Finished line number 66000\n",
      "Finished line number 69000\n",
      "Finished line number 72000\n",
      "Finished line number 75000\n",
      "Finished line number 78000\n",
      "Finished line number 81000\n",
      "Finished line number 84000\n",
      "Finished line number 87000\n",
      "Finished line number 90000\n",
      "Finished line number 93000\n",
      "Finished line number 96000\n",
      "Finished line number 99000\n",
      "Finished line number 102000\n",
      "Finished line number 105000\n",
      "Finished line number 108000\n",
      "Finished line number 111000\n",
      "Finished line number 114000\n",
      "Finished line number 117000\n",
      "Finished line number 120000\n",
      "Finished line number 123000\n",
      "Finished line number 126000\n",
      "Finished line number 129000\n",
      "Finished line number 132000\n",
      "Finished line number 135000\n",
      "Finished line number 138000\n",
      "Finished line number 141000\n",
      "Finished line number 144000\n",
      "Finished line number 147000\n",
      "Finished line number 150000\n",
      "Finished line number 153000\n",
      "Finished line number 156000\n",
      "Finished line number 159000\n",
      "Finished line number 162000\n",
      "Finished line number 165000\n"
     ]
    },
    {
     "data": {
      "text/html": [
       "<div>\n",
       "<style scoped>\n",
       "    .dataframe tbody tr th:only-of-type {\n",
       "        vertical-align: middle;\n",
       "    }\n",
       "\n",
       "    .dataframe tbody tr th {\n",
       "        vertical-align: top;\n",
       "    }\n",
       "\n",
       "    .dataframe thead th {\n",
       "        text-align: right;\n",
       "    }\n",
       "</style>\n",
       "<table border=\"1\" class=\"dataframe\">\n",
       "  <thead>\n",
       "    <tr style=\"text-align: right;\">\n",
       "      <th></th>\n",
       "      <th>product</th>\n",
       "      <th>narrative</th>\n",
       "      <th>processed narrative</th>\n",
       "    </tr>\n",
       "  </thead>\n",
       "  <tbody>\n",
       "    <tr>\n",
       "      <th>0</th>\n",
       "      <td>Money Transfer</td>\n",
       "      <td>On XX/XX/2019, I used WorldRemit to send money...</td>\n",
       "      <td>used worldremit send money internationally wor...</td>\n",
       "    </tr>\n",
       "    <tr>\n",
       "      <th>1</th>\n",
       "      <td>Money Transfer</td>\n",
       "      <td>On XX/XX/2020, my son had initiated money tran...</td>\n",
       "      <td>son initiated money transfer paypal account pa...</td>\n",
       "    </tr>\n",
       "    <tr>\n",
       "      <th>2</th>\n",
       "      <td>Money Transfer</td>\n",
       "      <td>On Thursday, XX/XX/XXXX, my son sent me {$1000...</td>\n",
       "      <td>thursday son sent via cash app went go cash ap...</td>\n",
       "    </tr>\n",
       "    <tr>\n",
       "      <th>3</th>\n",
       "      <td>Money Transfer</td>\n",
       "      <td>This dispute is with Bank of America. It relat...</td>\n",
       "      <td>dispute bank america relates unconscionable co...</td>\n",
       "    </tr>\n",
       "    <tr>\n",
       "      <th>4</th>\n",
       "      <td>Money Transfer</td>\n",
       "      <td>western union : - XXXX recording date : - XX/X...</td>\n",
       "      <td>western union recording date amount usd amount...</td>\n",
       "    </tr>\n",
       "  </tbody>\n",
       "</table>\n",
       "</div>"
      ],
      "text/plain": [
       "          product                                          narrative  \\\n",
       "0  Money Transfer  On XX/XX/2019, I used WorldRemit to send money...   \n",
       "1  Money Transfer  On XX/XX/2020, my son had initiated money tran...   \n",
       "2  Money Transfer  On Thursday, XX/XX/XXXX, my son sent me {$1000...   \n",
       "3  Money Transfer  This dispute is with Bank of America. It relat...   \n",
       "4  Money Transfer  western union : - XXXX recording date : - XX/X...   \n",
       "\n",
       "                                 processed narrative  \n",
       "0  used worldremit send money internationally wor...  \n",
       "1  son initiated money transfer paypal account pa...  \n",
       "2  thursday son sent via cash app went go cash ap...  \n",
       "3  dispute bank america relates unconscionable co...  \n",
       "4  western union recording date amount usd amount...  "
      ]
     },
     "execution_count": 30,
     "metadata": {},
     "output_type": "execute_result"
    }
   ],
   "source": [
    "for i in range(len(df_train)):\n",
    "    processed_narr = process_narrative(df_train['narrative'].loc[i])\n",
    "    narr = make_lemma_and_concat(processed_narr)\n",
    "    df_train['processed narrative'].loc[i] = narr\n",
    "    if i % 3000 == 0:\n",
    "        print(f'Finished line number {i}')\n",
    "df_train.head()"
   ]
  },
  {
   "cell_type": "code",
   "execution_count": 31,
   "metadata": {},
   "outputs": [
    {
     "data": {
      "text/plain": [
       "(455985, 2)"
      ]
     },
     "execution_count": 31,
     "metadata": {},
     "output_type": "execute_result"
    }
   ],
   "source": [
    "df_rest.shape"
   ]
  },
  {
   "cell_type": "code",
   "execution_count": 32,
   "metadata": {},
   "outputs": [
    {
     "data": {
      "text/html": [
       "<div>\n",
       "<style scoped>\n",
       "    .dataframe tbody tr th:only-of-type {\n",
       "        vertical-align: middle;\n",
       "    }\n",
       "\n",
       "    .dataframe tbody tr th {\n",
       "        vertical-align: top;\n",
       "    }\n",
       "\n",
       "    .dataframe thead th {\n",
       "        text-align: right;\n",
       "    }\n",
       "</style>\n",
       "<table border=\"1\" class=\"dataframe\">\n",
       "  <thead>\n",
       "    <tr style=\"text-align: right;\">\n",
       "      <th></th>\n",
       "      <th>product</th>\n",
       "      <th>narrative</th>\n",
       "    </tr>\n",
       "  </thead>\n",
       "  <tbody>\n",
       "    <tr>\n",
       "      <th>44</th>\n",
       "      <td>Money Transfer</td>\n",
       "      <td>In XXXX, I opened and funded a consumer accoun...</td>\n",
       "    </tr>\n",
       "    <tr>\n",
       "      <th>120</th>\n",
       "      <td>Money Transfer</td>\n",
       "      <td>Previously, I had repeatedly received spam mai...</td>\n",
       "    </tr>\n",
       "    <tr>\n",
       "      <th>121</th>\n",
       "      <td>Money Transfer</td>\n",
       "      <td>Hello, I contacted ( cryptocurrency exchange )...</td>\n",
       "    </tr>\n",
       "    <tr>\n",
       "      <th>163</th>\n",
       "      <td>Money Transfer</td>\n",
       "      <td>Retained Paysafe Merchant services on XX/XX/20...</td>\n",
       "    </tr>\n",
       "    <tr>\n",
       "      <th>181</th>\n",
       "      <td>Money Transfer</td>\n",
       "      <td>I had made a transfer to the wrong person of 4...</td>\n",
       "    </tr>\n",
       "  </tbody>\n",
       "</table>\n",
       "</div>"
      ],
      "text/plain": [
       "            product                                          narrative\n",
       "44   Money Transfer  In XXXX, I opened and funded a consumer accoun...\n",
       "120  Money Transfer  Previously, I had repeatedly received spam mai...\n",
       "121  Money Transfer  Hello, I contacted ( cryptocurrency exchange )...\n",
       "163  Money Transfer  Retained Paysafe Merchant services on XX/XX/20...\n",
       "181  Money Transfer  I had made a transfer to the wrong person of 4..."
      ]
     },
     "execution_count": 32,
     "metadata": {},
     "output_type": "execute_result"
    }
   ],
   "source": [
    "df_rest.head()"
   ]
  },
  {
   "cell_type": "code",
   "execution_count": 33,
   "metadata": {},
   "outputs": [
    {
     "name": "stdout",
     "output_type": "stream",
     "text": [
      "Finished line number 0\n",
      "Finished line number 3000\n",
      "Finished line number 6000\n",
      "Finished line number 9000\n",
      "Finished line number 12000\n",
      "Finished line number 15000\n",
      "Finished line number 18000\n",
      "Finished line number 21000\n",
      "Finished line number 24000\n",
      "Finished line number 27000\n",
      "Finished line number 30000\n",
      "Finished line number 33000\n",
      "Finished line number 36000\n",
      "Finished line number 39000\n",
      "Finished line number 42000\n",
      "Finished line number 45000\n",
      "Finished line number 48000\n",
      "Finished line number 51000\n",
      "Finished line number 54000\n",
      "Finished line number 57000\n",
      "Finished line number 60000\n",
      "Finished line number 63000\n",
      "Finished line number 66000\n",
      "Finished line number 69000\n",
      "Finished line number 72000\n",
      "Finished line number 75000\n",
      "Finished line number 78000\n",
      "Finished line number 81000\n",
      "Finished line number 84000\n",
      "Finished line number 87000\n",
      "Finished line number 90000\n",
      "Finished line number 93000\n",
      "Finished line number 96000\n",
      "Finished line number 99000\n",
      "Finished line number 102000\n",
      "Finished line number 105000\n",
      "Finished line number 108000\n",
      "Finished line number 111000\n",
      "Finished line number 114000\n",
      "Finished line number 117000\n",
      "Finished line number 120000\n",
      "Finished line number 123000\n",
      "Finished line number 126000\n",
      "Finished line number 129000\n",
      "Finished line number 132000\n",
      "Finished line number 135000\n",
      "Finished line number 138000\n",
      "Finished line number 141000\n",
      "Finished line number 144000\n",
      "Finished line number 147000\n",
      "Finished line number 150000\n",
      "Finished line number 153000\n",
      "Finished line number 156000\n",
      "Finished line number 159000\n",
      "Finished line number 162000\n",
      "Finished line number 165000\n",
      "Finished line number 168000\n",
      "Finished line number 171000\n",
      "Finished line number 174000\n",
      "Finished line number 177000\n",
      "Finished line number 180000\n",
      "Finished line number 183000\n",
      "Finished line number 186000\n",
      "Finished line number 189000\n",
      "Finished line number 192000\n",
      "Finished line number 195000\n",
      "Finished line number 198000\n",
      "Finished line number 201000\n",
      "Finished line number 204000\n",
      "Finished line number 207000\n",
      "Finished line number 210000\n",
      "Finished line number 213000\n",
      "Finished line number 216000\n",
      "Finished line number 219000\n",
      "Finished line number 222000\n",
      "Finished line number 225000\n",
      "Finished line number 228000\n",
      "Finished line number 231000\n",
      "Finished line number 234000\n",
      "Finished line number 237000\n",
      "Finished line number 240000\n",
      "Finished line number 243000\n",
      "Finished line number 246000\n",
      "Finished line number 249000\n",
      "Finished line number 252000\n",
      "Finished line number 255000\n",
      "Finished line number 258000\n",
      "Finished line number 261000\n",
      "Finished line number 264000\n",
      "Finished line number 267000\n",
      "Finished line number 270000\n",
      "Finished line number 273000\n",
      "Finished line number 276000\n",
      "Finished line number 279000\n",
      "Finished line number 282000\n",
      "Finished line number 285000\n",
      "Finished line number 288000\n",
      "Finished line number 291000\n",
      "Finished line number 294000\n",
      "Finished line number 297000\n",
      "Finished line number 300000\n",
      "Finished line number 303000\n",
      "Finished line number 306000\n",
      "Finished line number 309000\n",
      "Finished line number 312000\n",
      "Finished line number 315000\n",
      "Finished line number 318000\n",
      "Finished line number 321000\n",
      "Finished line number 324000\n",
      "Finished line number 327000\n",
      "Finished line number 330000\n",
      "Finished line number 333000\n",
      "Finished line number 336000\n",
      "Finished line number 339000\n",
      "Finished line number 342000\n",
      "Finished line number 345000\n",
      "Finished line number 348000\n",
      "Finished line number 351000\n",
      "Finished line number 354000\n",
      "Finished line number 357000\n",
      "Finished line number 360000\n",
      "Finished line number 363000\n",
      "Finished line number 366000\n",
      "Finished line number 369000\n",
      "Finished line number 372000\n",
      "Finished line number 375000\n",
      "Finished line number 378000\n",
      "Finished line number 381000\n",
      "Finished line number 384000\n",
      "Finished line number 387000\n",
      "Finished line number 390000\n",
      "Finished line number 393000\n",
      "Finished line number 396000\n",
      "Finished line number 399000\n",
      "Finished line number 402000\n",
      "Finished line number 405000\n",
      "Finished line number 408000\n",
      "Finished line number 411000\n",
      "Finished line number 414000\n",
      "Finished line number 417000\n",
      "Finished line number 420000\n",
      "Finished line number 423000\n",
      "Finished line number 426000\n",
      "Finished line number 429000\n",
      "Finished line number 432000\n",
      "Finished line number 435000\n",
      "Finished line number 438000\n",
      "Finished line number 441000\n",
      "Finished line number 444000\n",
      "Finished line number 447000\n",
      "Finished line number 450000\n",
      "Finished line number 453000\n"
     ]
    },
    {
     "data": {
      "text/html": [
       "<div>\n",
       "<style scoped>\n",
       "    .dataframe tbody tr th:only-of-type {\n",
       "        vertical-align: middle;\n",
       "    }\n",
       "\n",
       "    .dataframe tbody tr th {\n",
       "        vertical-align: top;\n",
       "    }\n",
       "\n",
       "    .dataframe thead th {\n",
       "        text-align: right;\n",
       "    }\n",
       "</style>\n",
       "<table border=\"1\" class=\"dataframe\">\n",
       "  <thead>\n",
       "    <tr style=\"text-align: right;\">\n",
       "      <th></th>\n",
       "      <th>product</th>\n",
       "      <th>narrative</th>\n",
       "      <th>processed narrative</th>\n",
       "    </tr>\n",
       "  </thead>\n",
       "  <tbody>\n",
       "    <tr>\n",
       "      <th>0</th>\n",
       "      <td>Money Transfer</td>\n",
       "      <td>In XXXX, I opened and funded a consumer accoun...</td>\n",
       "      <td>opened funded consumer account bam trading ser...</td>\n",
       "    </tr>\n",
       "    <tr>\n",
       "      <th>1</th>\n",
       "      <td>Money Transfer</td>\n",
       "      <td>Previously, I had repeatedly received spam mai...</td>\n",
       "      <td>previously repeatedly received spam mail pnc b...</td>\n",
       "    </tr>\n",
       "    <tr>\n",
       "      <th>2</th>\n",
       "      <td>Money Transfer</td>\n",
       "      <td>Hello, I contacted ( cryptocurrency exchange )...</td>\n",
       "      <td>hello contacted cryptocurrency exchange suppor...</td>\n",
       "    </tr>\n",
       "    <tr>\n",
       "      <th>3</th>\n",
       "      <td>Money Transfer</td>\n",
       "      <td>Retained Paysafe Merchant services on XX/XX/20...</td>\n",
       "      <td>retained paysafe merchant service handle payme...</td>\n",
       "    </tr>\n",
       "    <tr>\n",
       "      <th>4</th>\n",
       "      <td>Money Transfer</td>\n",
       "      <td>I had made a transfer to the wrong person of 4...</td>\n",
       "      <td>made transfer wrong person contacted cash app ...</td>\n",
       "    </tr>\n",
       "  </tbody>\n",
       "</table>\n",
       "</div>"
      ],
      "text/plain": [
       "          product                                          narrative  \\\n",
       "0  Money Transfer  In XXXX, I opened and funded a consumer accoun...   \n",
       "1  Money Transfer  Previously, I had repeatedly received spam mai...   \n",
       "2  Money Transfer  Hello, I contacted ( cryptocurrency exchange )...   \n",
       "3  Money Transfer  Retained Paysafe Merchant services on XX/XX/20...   \n",
       "4  Money Transfer  I had made a transfer to the wrong person of 4...   \n",
       "\n",
       "                                 processed narrative  \n",
       "0  opened funded consumer account bam trading ser...  \n",
       "1  previously repeatedly received spam mail pnc b...  \n",
       "2  hello contacted cryptocurrency exchange suppor...  \n",
       "3  retained paysafe merchant service handle payme...  \n",
       "4  made transfer wrong person contacted cash app ...  "
      ]
     },
     "execution_count": 33,
     "metadata": {},
     "output_type": "execute_result"
    }
   ],
   "source": [
    "df_rest['processed narrative'] = df_rest['narrative']\n",
    "df_rest.index = np.arange(0, len(df_rest))\n",
    "for i in range(len(df_rest)):\n",
    "    processed_narr = process_narrative(df_rest['narrative'].loc[i])\n",
    "    narr = make_lemma_and_concat(processed_narr)\n",
    "    df_rest['processed narrative'].loc[i] = narr\n",
    "    if i % 3000 == 0:\n",
    "        print(f'Finished line number {i}')\n",
    "df_rest.head()"
   ]
  },
  {
   "cell_type": "markdown",
   "metadata": {},
   "source": [
    "# Save dataframe as csv for use in other notebooks"
   ]
  },
  {
   "cell_type": "code",
   "execution_count": 34,
   "metadata": {},
   "outputs": [],
   "source": [
    "df_train.to_csv('complaints_processed_0722_train.csv')"
   ]
  },
  {
   "cell_type": "code",
   "execution_count": 37,
   "metadata": {},
   "outputs": [
    {
     "data": {
      "text/html": [
       "<div>\n",
       "<style scoped>\n",
       "    .dataframe tbody tr th:only-of-type {\n",
       "        vertical-align: middle;\n",
       "    }\n",
       "\n",
       "    .dataframe tbody tr th {\n",
       "        vertical-align: top;\n",
       "    }\n",
       "\n",
       "    .dataframe thead th {\n",
       "        text-align: right;\n",
       "    }\n",
       "</style>\n",
       "<table border=\"1\" class=\"dataframe\">\n",
       "  <thead>\n",
       "    <tr style=\"text-align: right;\">\n",
       "      <th></th>\n",
       "      <th>product</th>\n",
       "      <th>narrative</th>\n",
       "      <th>processed narrative</th>\n",
       "    </tr>\n",
       "  </thead>\n",
       "  <tbody>\n",
       "    <tr>\n",
       "      <th>0</th>\n",
       "      <td>Money Transfer</td>\n",
       "      <td>On XX/XX/2019, I used WorldRemit to send money...</td>\n",
       "      <td>used worldremit send money internationally wor...</td>\n",
       "    </tr>\n",
       "    <tr>\n",
       "      <th>1</th>\n",
       "      <td>Money Transfer</td>\n",
       "      <td>On XX/XX/2020, my son had initiated money tran...</td>\n",
       "      <td>son initiated money transfer paypal account pa...</td>\n",
       "    </tr>\n",
       "    <tr>\n",
       "      <th>2</th>\n",
       "      <td>Money Transfer</td>\n",
       "      <td>On Thursday, XX/XX/XXXX, my son sent me {$1000...</td>\n",
       "      <td>thursday son sent via cash app went go cash ap...</td>\n",
       "    </tr>\n",
       "    <tr>\n",
       "      <th>3</th>\n",
       "      <td>Money Transfer</td>\n",
       "      <td>This dispute is with Bank of America. It relat...</td>\n",
       "      <td>dispute bank america relates unconscionable co...</td>\n",
       "    </tr>\n",
       "    <tr>\n",
       "      <th>4</th>\n",
       "      <td>Money Transfer</td>\n",
       "      <td>western union : - XXXX recording date : - XX/X...</td>\n",
       "      <td>western union recording date amount usd amount...</td>\n",
       "    </tr>\n",
       "  </tbody>\n",
       "</table>\n",
       "</div>"
      ],
      "text/plain": [
       "          product                                          narrative  \\\n",
       "0  Money Transfer  On XX/XX/2019, I used WorldRemit to send money...   \n",
       "1  Money Transfer  On XX/XX/2020, my son had initiated money tran...   \n",
       "2  Money Transfer  On Thursday, XX/XX/XXXX, my son sent me {$1000...   \n",
       "3  Money Transfer  This dispute is with Bank of America. It relat...   \n",
       "4  Money Transfer  western union : - XXXX recording date : - XX/X...   \n",
       "\n",
       "                                 processed narrative  \n",
       "0  used worldremit send money internationally wor...  \n",
       "1  son initiated money transfer paypal account pa...  \n",
       "2  thursday son sent via cash app went go cash ap...  \n",
       "3  dispute bank america relates unconscionable co...  \n",
       "4  western union recording date amount usd amount...  "
      ]
     },
     "execution_count": 37,
     "metadata": {},
     "output_type": "execute_result"
    }
   ],
   "source": [
    "df_train.head()"
   ]
  },
  {
   "cell_type": "code",
   "execution_count": 38,
   "metadata": {},
   "outputs": [
    {
     "data": {
      "text/html": [
       "<div>\n",
       "<style scoped>\n",
       "    .dataframe tbody tr th:only-of-type {\n",
       "        vertical-align: middle;\n",
       "    }\n",
       "\n",
       "    .dataframe tbody tr th {\n",
       "        vertical-align: top;\n",
       "    }\n",
       "\n",
       "    .dataframe thead th {\n",
       "        text-align: right;\n",
       "    }\n",
       "</style>\n",
       "<table border=\"1\" class=\"dataframe\">\n",
       "  <thead>\n",
       "    <tr style=\"text-align: right;\">\n",
       "      <th></th>\n",
       "      <th>product</th>\n",
       "      <th>narrative</th>\n",
       "      <th>processed narrative</th>\n",
       "    </tr>\n",
       "  </thead>\n",
       "  <tbody>\n",
       "    <tr>\n",
       "      <th>0</th>\n",
       "      <td>Money Transfer</td>\n",
       "      <td>In XXXX, I opened and funded a consumer accoun...</td>\n",
       "      <td>opened funded consumer account bam trading ser...</td>\n",
       "    </tr>\n",
       "    <tr>\n",
       "      <th>1</th>\n",
       "      <td>Money Transfer</td>\n",
       "      <td>Previously, I had repeatedly received spam mai...</td>\n",
       "      <td>previously repeatedly received spam mail pnc b...</td>\n",
       "    </tr>\n",
       "    <tr>\n",
       "      <th>2</th>\n",
       "      <td>Money Transfer</td>\n",
       "      <td>Hello, I contacted ( cryptocurrency exchange )...</td>\n",
       "      <td>hello contacted cryptocurrency exchange suppor...</td>\n",
       "    </tr>\n",
       "    <tr>\n",
       "      <th>3</th>\n",
       "      <td>Money Transfer</td>\n",
       "      <td>Retained Paysafe Merchant services on XX/XX/20...</td>\n",
       "      <td>retained paysafe merchant service handle payme...</td>\n",
       "    </tr>\n",
       "    <tr>\n",
       "      <th>4</th>\n",
       "      <td>Money Transfer</td>\n",
       "      <td>I had made a transfer to the wrong person of 4...</td>\n",
       "      <td>made transfer wrong person contacted cash app ...</td>\n",
       "    </tr>\n",
       "  </tbody>\n",
       "</table>\n",
       "</div>"
      ],
      "text/plain": [
       "          product                                          narrative  \\\n",
       "0  Money Transfer  In XXXX, I opened and funded a consumer accoun...   \n",
       "1  Money Transfer  Previously, I had repeatedly received spam mai...   \n",
       "2  Money Transfer  Hello, I contacted ( cryptocurrency exchange )...   \n",
       "3  Money Transfer  Retained Paysafe Merchant services on XX/XX/20...   \n",
       "4  Money Transfer  I had made a transfer to the wrong person of 4...   \n",
       "\n",
       "                                 processed narrative  \n",
       "0  opened funded consumer account bam trading ser...  \n",
       "1  previously repeatedly received spam mail pnc b...  \n",
       "2  hello contacted cryptocurrency exchange suppor...  \n",
       "3  retained paysafe merchant service handle payme...  \n",
       "4  made transfer wrong person contacted cash app ...  "
      ]
     },
     "execution_count": 38,
     "metadata": {},
     "output_type": "execute_result"
    }
   ],
   "source": [
    "df_rest.head()"
   ]
  },
  {
   "cell_type": "code",
   "execution_count": 39,
   "metadata": {},
   "outputs": [],
   "source": [
    "df_rest.to_csv('complaints_processed_0722_test.csv')"
   ]
  },
  {
   "cell_type": "code",
   "execution_count": null,
   "metadata": {},
   "outputs": [],
   "source": []
  }
 ],
 "metadata": {
  "kernelspec": {
   "display_name": "Python 3",
   "language": "python",
   "name": "python3"
  },
  "language_info": {
   "codemirror_mode": {
    "name": "ipython",
    "version": 3
   },
   "file_extension": ".py",
   "mimetype": "text/x-python",
   "name": "python",
   "nbconvert_exporter": "python",
   "pygments_lexer": "ipython3",
   "version": "3.6.9"
  },
  "varInspector": {
   "cols": {
    "lenName": 16,
    "lenType": 16,
    "lenVar": 40
   },
   "kernels_config": {
    "python": {
     "delete_cmd_postfix": "",
     "delete_cmd_prefix": "del ",
     "library": "var_list.py",
     "varRefreshCmd": "print(var_dic_list())"
    },
    "r": {
     "delete_cmd_postfix": ") ",
     "delete_cmd_prefix": "rm(",
     "library": "var_list.r",
     "varRefreshCmd": "cat(var_dic_list()) "
    }
   },
   "types_to_exclude": [
    "module",
    "function",
    "builtin_function_or_method",
    "instance",
    "_Feature"
   ],
   "window_display": false
  }
 },
 "nbformat": 4,
 "nbformat_minor": 4
}
